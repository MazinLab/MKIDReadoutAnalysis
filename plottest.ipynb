{
 "cells": [
  {
   "cell_type": "code",
   "execution_count": null,
   "id": "initial_id",
   "metadata": {
    "collapsed": true
   },
   "outputs": [],
   "source": []
  },
  {
   "cell_type": "code",
   "outputs": [
    {
     "ename": "FileNotFoundError",
     "evalue": "[Errno 2] No such file or directory: '/work/jpsmith/Gen3/Fridge_Tests/r_testing/data/white_fridge/10_18_23/wf_ellison3_6000_650GHz.npz'",
     "output_type": "error",
     "traceback": [
      "\u001B[0;31m---------------------------------------------------------------------------\u001B[0m",
      "\u001B[0;31mFileNotFoundError\u001B[0m                         Traceback (most recent call last)",
      "\u001B[0;32m/var/folders/h3/wz_mmrps2_9ct5kd944j801m0000gn/T/ipykernel_41073/3016643463.py\u001B[0m in \u001B[0;36m<module>\u001B[0;34m\u001B[0m\n\u001B[1;32m     20\u001B[0m     \u001B[0mphase_data\u001B[0m \u001B[0;34m=\u001B[0m \u001B[0mgenerate_fake_data\u001B[0m\u001B[0;34m(\u001B[0m\u001B[0;34m)\u001B[0m\u001B[0;34m\u001B[0m\u001B[0;34m\u001B[0m\u001B[0m\n\u001B[1;32m     21\u001B[0m \u001B[0;32melse\u001B[0m\u001B[0;34m:\u001B[0m\u001B[0;34m\u001B[0m\u001B[0;34m\u001B[0m\u001B[0m\n\u001B[0;32m---> 22\u001B[0;31m     \u001B[0mdata\u001B[0m \u001B[0;34m=\u001B[0m \u001B[0mnp\u001B[0m\u001B[0;34m.\u001B[0m\u001B[0mload\u001B[0m\u001B[0;34m(\u001B[0m\u001B[0;34mf'/work/jpsmith/Gen3/Fridge_Tests/r_testing/data/white_fridge/10_18_23/wf_ellison3_6000_650GHz.npz'\u001B[0m\u001B[0;34m)\u001B[0m\u001B[0;34m\u001B[0m\u001B[0;34m\u001B[0m\u001B[0m\n\u001B[0m\u001B[1;32m     23\u001B[0m     \u001B[0mphase_data\u001B[0m \u001B[0;34m=\u001B[0m \u001B[0mdata\u001B[0m\u001B[0;34m[\u001B[0m\u001B[0mdata_key\u001B[0m\u001B[0;34m+\u001B[0m\u001B[0;34m'_phase'\u001B[0m\u001B[0;34m]\u001B[0m \u001B[0;34m*\u001B[0m \u001B[0mnp\u001B[0m\u001B[0;34m.\u001B[0m\u001B[0mpi\u001B[0m\u001B[0;34m\u001B[0m\u001B[0;34m\u001B[0m\u001B[0m\n\u001B[1;32m     24\u001B[0m     \u001B[0;32mdel\u001B[0m \u001B[0mdata\u001B[0m\u001B[0;34m\u001B[0m\u001B[0;34m\u001B[0m\u001B[0m\n",
      "\u001B[0;32m~/opt/anaconda3/envs/Pulse_Analysis/lib/python3.7/site-packages/numpy/lib/npyio.py\u001B[0m in \u001B[0;36mload\u001B[0;34m(file, mmap_mode, allow_pickle, fix_imports, encoding)\u001B[0m\n\u001B[1;32m    415\u001B[0m             \u001B[0mown_fid\u001B[0m \u001B[0;34m=\u001B[0m \u001B[0;32mFalse\u001B[0m\u001B[0;34m\u001B[0m\u001B[0;34m\u001B[0m\u001B[0m\n\u001B[1;32m    416\u001B[0m         \u001B[0;32melse\u001B[0m\u001B[0;34m:\u001B[0m\u001B[0;34m\u001B[0m\u001B[0;34m\u001B[0m\u001B[0m\n\u001B[0;32m--> 417\u001B[0;31m             \u001B[0mfid\u001B[0m \u001B[0;34m=\u001B[0m \u001B[0mstack\u001B[0m\u001B[0;34m.\u001B[0m\u001B[0menter_context\u001B[0m\u001B[0;34m(\u001B[0m\u001B[0mopen\u001B[0m\u001B[0;34m(\u001B[0m\u001B[0mos_fspath\u001B[0m\u001B[0;34m(\u001B[0m\u001B[0mfile\u001B[0m\u001B[0;34m)\u001B[0m\u001B[0;34m,\u001B[0m \u001B[0;34m\"rb\"\u001B[0m\u001B[0;34m)\u001B[0m\u001B[0;34m)\u001B[0m\u001B[0;34m\u001B[0m\u001B[0;34m\u001B[0m\u001B[0m\n\u001B[0m\u001B[1;32m    418\u001B[0m             \u001B[0mown_fid\u001B[0m \u001B[0;34m=\u001B[0m \u001B[0;32mTrue\u001B[0m\u001B[0;34m\u001B[0m\u001B[0;34m\u001B[0m\u001B[0m\n\u001B[1;32m    419\u001B[0m \u001B[0;34m\u001B[0m\u001B[0m\n",
      "\u001B[0;31mFileNotFoundError\u001B[0m: [Errno 2] No such file or directory: '/work/jpsmith/Gen3/Fridge_Tests/r_testing/data/white_fridge/10_18_23/wf_ellison3_6000_650GHz.npz'"
     ]
    }
   ],
   "source": [
    "import logging\n",
    "\n",
    "import matplotlib.pyplot as plt\n",
    "import numpy as np\n",
    "\n",
    "from mkidreadoutanalysis.mkidnoiseanalysis import plot_channel_fft, plot_psd, apply_lowpass_filter, compute_r\n",
    "from mkidreadoutanalysis.resonator import *\n",
    "from mkidreadoutanalysis.mkidnoiseanalysis import plot_psd\n",
    "from mkidreadoutanalysis.mkidreadout import MKIDReadout\n",
    "from mkidreadoutanalysis.optimal_filters.make_filters import Calculator\n",
    "from mkidreadoutanalysis.optimal_filters.config import ConfigThing\n",
    "import scipy as sp\n",
    "from mkidreadoutanalysis.jenny_ofilt_helpers import generate_fake_data, ofilt_plot_comparison\n",
    "\n",
    "\n",
    "\n",
    "## IMPORT / GENERATE DATA\n",
    "data_key = 'ir' # options: 'red', 'ir', 'None' (generates fake data)\n",
    "if data_key == 'None':\n",
    "    phase_data = generate_fake_data()\n",
    "else:\n",
    "    data = np.load(f'/work/jpsmith/Gen3/Fridge_Tests/r_testing/data/white_fridge/10_18_23/wf_ellison3_6000_650GHz.npz')\n",
    "    phase_data = data[data_key+'_phase'] * np.pi\n",
    "    del data\n",
    "\n",
    "## CONFIG PARAMETERS\n",
    "cfg=ConfigThing()\n",
    "cfg.registerfromkvlist((('dt', 1e-6),\n",
    "('fit', False),\n",
    "('summary_plot', True),\n",
    "('pulses.unwrap', False),\n",
    "#('pulses.fallback_template', '/work/jpsmith/R_Analysis/MKIDReadoutAnalysis/mkidreadoutanalysis/optimal_filters/template_15us.txt'), # specify a pre-computed fallback template,\n",
    "                        # will be sliced according to offset and n_template\n",
    "('pulses.fallback_template', None), # specify a pre-computed fallback template,\n",
    "\n",
    "('pulses.tf', 30), # pre filter pulse fall time in microseconds\n",
    "('pulses.ntemplate', 500), # need to set this larger to calculate covariance matrix in the time domain \"accurately\" for the number of selected filter coefficients\n",
    "('pulses.offset', 10),\n",
    "('pulses.threshold', 6), # sigma above noise\n",
    "('pulses.separation', 500),\n",
    "('pulses.min_pulses', 500),\n",
    "('noise.nwindow', 500), #1000\n",
    "('noise.isolation', 200),\n",
    "('noise.max_windows', 2000), # maximum number of nwindows of samples needed before moving on [int]\n",
    "#('noise.max_noise', 2000), #2000\n",
    "('template.percent', 80),\n",
    "('filter.cutoff', .1),\n",
    "('template.min_tau', 5),\n",
    "('template.max_tau', 100),\n",
    "('template.fit', 'triple_exponential'),\n",
    "('filter.filter_type', 'wiener'),\n",
    "('filter.nfilter', 50), # for messing around this should be closer to 1000 and ntemplate should be increased to be 5-10x nfilter\n",
    "                        # need to make sure filter is periodic and this gets hard when the filter is short\n",
    "('filter.normalize', True)), namespace='')\n",
    "\n",
    "ofc = Calculator(phase=phase_data, config=cfg, name='simulated')\n",
    "\n",
    "ofc.calculate(clear=False)\n",
    "ofc.plot(); plt.show();\n",
    "\n",
    "optimal_filter = ofc.result['filter']\n",
    "\n",
    "## APPLY FILTER\n",
    "phase_ofilt = sp.signal.convolve(phase_data,optimal_filter, mode='same')\n",
    "#readout_ofilt = MKIDReadout()\n",
    "#readout_ofilt.trigger(phase_ofilt, fs = 1e6, threshold=-1.2, deadtime=60)\n",
    "#phase_ofilt_dark_mean = phase_data[25000:60000].mean() #TODO: Make automatic\n",
    "#phase_ofilt_max_location, phase_ofilt_fwhm = compute_r(readout_ofilt.photon_energies - phase_ofilt_dark_mean, \n",
    "#color='blue', plot=False)\n",
    "#print(f'Max Phase: {-blue_phase_ofilt_max_location} FWHM: {blue_phase_ofilt_fwhm} radians')\n",
    "#plt.title('Blue Photons Optimal Filter (409.5 nm), FPGA Phase');\n",
    "#plt.show()\n",
    "\n"
   ],
   "metadata": {
    "collapsed": false,
    "ExecuteTime": {
     "end_time": "2024-02-17T00:19:43.108563Z",
     "start_time": "2024-02-17T00:19:39.483933Z"
    }
   },
   "id": "e29d14f45d505338",
   "execution_count": 1
  },
  {
   "cell_type": "code",
   "outputs": [],
   "source": [],
   "metadata": {
    "collapsed": false
   },
   "id": "1eea611dbfe1712a"
  }
 ],
 "metadata": {
  "kernelspec": {
   "display_name": "Python 3",
   "language": "python",
   "name": "python3"
  },
  "language_info": {
   "codemirror_mode": {
    "name": "ipython",
    "version": 2
   },
   "file_extension": ".py",
   "mimetype": "text/x-python",
   "name": "python",
   "nbconvert_exporter": "python",
   "pygments_lexer": "ipython2",
   "version": "2.7.6"
  }
 },
 "nbformat": 4,
 "nbformat_minor": 5
}
