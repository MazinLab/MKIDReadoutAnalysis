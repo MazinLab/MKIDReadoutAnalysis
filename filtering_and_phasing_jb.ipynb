{
 "cells": [
  {
   "cell_type": "code",
   "execution_count": null,
   "id": "initial_id",
   "metadata": {
    "collapsed": true,
    "is_executing": true,
    "ExecuteTime": {
     "start_time": "2023-12-08T20:50:33.408734Z"
    }
   },
   "outputs": [
    {
     "name": "stdout",
     "output_type": "stream",
     "text": [
      "For settings requested using a count rate of 362, and a duration of 8.3 s. Data volume will be ~253 MB.\n"
     ]
    }
   ],
   "source": [
    "import numpy as np\n",
    "from mkidreadoutanalysis.mkidnoiseanalysis import plot_channel_fft, plot_psd, apply_lowpass_filter, compute_r\n",
    "from mkidreadoutanalysis.resonator import *\n",
    "from mkidreadoutanalysis.mkidreadout import MKIDReadout\n",
    "from mkidreadoutanalysis.optimal_filters.make_filters import Calculator\n",
    "import scipy as sp\n",
    "from mkidreadoutanalysis.optimal_filters.filters import wiener\n",
    "\n",
    "# Create 2MHz IQ of pulse (w/ noise) of photons at various arrival times\n",
    "resonator = Resonator(f0=4.0012e9, qi=200000, qc=15000, xa=1e-9, a=0, tls_scale=1) #1e2\n",
    "rf = RFElectronics(gain=(np.pi, 0, 0), phase_delay=np.pi, cable_delay=50e-9)\n",
    "freq = FrequencyGrid( fc=4.0012e9, points=1000, span=500e6)\n",
    "\n",
    "sweep = ResonatorSweep(resonator, freq, rf)\n",
    "# plot sweep to make sure we are rotated and centered\n",
    "\n",
    "\n",
    "#These are values for settings later on that you shouldn't exceed otherwise you'll be unlikely to have sufficient data\n",
    "n_template_max = 750\n",
    "min_noise_window_max = 2000 \n",
    "pre_pulse_avoid_max = 10\n",
    "\n",
    "n_template_max = 750\n",
    "min_noise_window_max = 2000 \n",
    "pre_pulse_avoid_max = 10\n",
    "desired_pulses = 3000\n",
    "\n",
    "typical_us_between_photon=(n_template_max+pre_pulse_avoid_max+min_noise_window_max)\n",
    "advisable_max_count_rate = int(1/typical_us_between_photon*1e6)\n",
    "needed_duration = desired_pulses/advisable_max_count_rate\n",
    "iq_data_volume=np.complex128().itemsize*2e6*needed_duration/1024**2\n",
    "advisable_max_count_rate, needed_duration, iq_data_volume\n",
    "\n",
    "print(f'For settings requested using a count rate of {advisable_max_count_rate}, '\n",
    "      f'and a duration of {needed_duration:.1f} s. Data volume will be ~{iq_data_volume:.0f} MB.')\n",
    "if iq_data_volume>1000:\n",
    "    raise RuntimeError('Sure you want to generate more that 1Gig of IQ values?')\n",
    "\n",
    "quasiparticle_timestream = QuasiparticleTimeStream(fs = 2e6, ts = needed_duration)\n",
    "quasiparticle_timestream.gen_photon_arrivals(cps=advisable_max_count_rate)"
   ]
  },
  {
   "cell_type": "code",
   "execution_count": null,
   "outputs": [],
   "source": [
    "# quasiparticle_timestream.populate_photons_random_phasing(magnitude=np.pi/2);\n",
    "quasiparticle_timestream.populate_photons(magnitude=np.pi/2);"
   ],
   "metadata": {
    "collapsed": false,
    "is_executing": true
   },
   "id": "21fb45bab271a1d"
  },
  {
   "cell_type": "code",
   "execution_count": null,
   "outputs": [],
   "source": [
    "#quasiparticle_timestream.plot_timeseries(quasiparticle_timestream.data)"
   ],
   "metadata": {
    "collapsed": false,
    "is_executing": true
   },
   "id": "fc110c4c55656406"
  },
  {
   "cell_type": "code",
   "execution_count": null,
   "outputs": [],
   "source": [
    "sweep.plot_sweep()"
   ],
   "metadata": {
    "collapsed": false,
    "is_executing": true
   },
   "id": "936b01ca3e9796be"
  },
  {
   "cell_type": "code",
   "execution_count": null,
   "outputs": [],
   "source": [
    "lowpass8coe = np.array([-0.08066211966627938, 0.02032901400427789, 0.21182262325068868, 0.38968583545138658, 0.38968583545138658, 0.21182262325068868, 0.02032901400427789, -0.08066211966627938])\n",
    "lowpass20coe = np.array([6,0,-4,-3,5,6,-6,-13,7,44,64,44,7,-13,-6,6,5,-3,-4,0,6], dtype=float)\n",
    "lowpass20coe/=np.trapz(lowpass20coe)\n",
    "from scipy.signal import lfilter,lfiltic\n",
    "lowpass8 = lambda data : lfilter(lowpass8coe, 1, data)[8:]\n",
    "lowpass20 = lambda data : lfilter(lowpass20coe, 1, data)[20:]\n",
    "def plot_lowpass(fs, filter_coe):\n",
    "    from scipy import signal\n",
    "    w, h = signal.freqz(b=filter_coe, a=1)\n",
    "    x = w * fs * 1.0 / (2 * np.pi)\n",
    "    y = 20 * np.log10(abs(h))\n",
    "    plt.figure(figsize=(10, 5))\n",
    "    plt.semilogx(x, y)\n",
    "    plt.ylabel('Amplitude [dB]')\n",
    "    plt.xlabel('Frequency [Hz]')\n",
    "    plt.title('Frequency response')\n",
    "    plt.grid(which='both', linestyle='-', color='grey')\n",
    "    plt.show()"
   ],
   "metadata": {
    "collapsed": false,
    "is_executing": true
   },
   "id": "27d9780b98fa9b3c"
  },
  {
   "cell_type": "code",
   "execution_count": null,
   "outputs": [],
   "source": [
    "lit_res_measurment = ReadoutPhotonResonator(resonator, quasiparticle_timestream, freq, rf)\n",
    "\n",
    "# toggle white noise and line noise\n",
    "lit_res_measurment.noise_on = True\n",
    "# adjust white noise scale\n",
    "lit_res_measurment.rf.noise_scale = 30\n",
    "# configure line noise\n",
    "lit_res_measurment.rf.line_noise.freqs = ([60, 50e3, 100e3, 250e3, -300e3, 300e3, 500e3]) # Hz and relative to center of bin (MKID we are reading out)\n",
    "lit_res_measurment.rf.line_noise.amplitudes = ([0.05, 0.05, 0.05, 0.05, 0.05, 0.05, 0.01])\n",
    "lit_res_measurment.rf.line_noise.phases = ([0, 0.5, 0,1.3,0.5, 0.2, 2.4])"
   ],
   "metadata": {
    "collapsed": false,
    "is_executing": true
   },
   "id": "22e8d20092fb2b08"
  },
  {
   "cell_type": "code",
   "execution_count": null,
   "outputs": [],
   "source": [
    "lowpass_to_use = lowpass8\n",
    "lowpass_drop = 8"
   ],
   "metadata": {
    "collapsed": false,
    "is_executing": true
   },
   "id": "146543a9644081ee"
  },
  {
   "cell_type": "code",
   "execution_count": null,
   "outputs": [],
   "source": [
    "def pulse(amp, t, t0, tf=20):\n",
    "    p = np.zeros_like(t)\n",
    "    p[t >= t0] = amp*np.exp(-(t[t >= t0] - t0) / tf)\n",
    "    return p\n",
    "\n",
    "t = np.linspace(0, 500, 1000) * 1e-6  # in sec\n",
    "photon = pulse(np.pi/2, t, 30e-6, tf=30e-6)\n",
    "\n",
    "qp_timestream_single = copy.deepcopy(quasiparticle_timestream)\n",
    "qp_timestream_single.tvec = t\n",
    "qp_timestream_single.data = photon\n",
    "\n",
    "# Define Measurment Object\n",
    "foo = ReadoutPhotonResonator(resonator, qp_timestream_single, freq, rf)\n",
    "x = lowpass_to_use(foo.iq_response.real) + lowpass_to_use(foo.iq_response.imag) * 1j\n",
    "foo.decimated_iq = x[::2]\n",
    "foo.decimated_tvec = foo.photons.tvec[lowpass_drop::2]\n",
    "\n",
    "foophase = np.angle(foo.iq_response+np.pi/2)/np.pi+.8"
   ],
   "metadata": {
    "collapsed": false,
    "is_executing": true
   },
   "id": "2e0fd4bb0af713e1"
  },
  {
   "cell_type": "code",
   "execution_count": null,
   "outputs": [],
   "source": [
    "foo.plot_photon_response(sweep.s21)\n",
    "plt.figure()\n",
    "plt.plot(foophase);"
   ],
   "metadata": {
    "collapsed": false,
    "is_executing": true
   },
   "id": "8904eb0f132aee1a"
  },
  {
   "cell_type": "code",
   "execution_count": null,
   "outputs": [],
   "source": [
    "x = lowpass_to_use(lit_res_measurment.iq_response.real)+lowpass_to_use(lit_res_measurment.iq_response.imag)*1j\n",
    "lit_res_measurment.decimated_iq=x[::2]\n",
    "lit_res_measurment.decimated_tvec = lit_res_measurment.photons.tvec[lowpass_drop:][::2]\n",
    "phase = np.angle(lit_res_measurment.decimated_iq+np.pi/2)/np.pi+.8"
   ],
   "metadata": {
    "collapsed": false,
    "is_executing": true
   },
   "id": "23f9966db5b189ed"
  },
  {
   "cell_type": "code",
   "execution_count": null,
   "outputs": [],
   "source": [
    "trigger_threshold=.5\n",
    "max_noise_windows = 2000\n",
    "noise_npoints = 750 # psd is calcualted from overlapping segments of this length (defualt is 50% ovlp).\n",
    "n_ovl = 2 # factor by which noise_npoints is multiplied by to determine the minimum noise window\n",
    "\n",
    "post_pulse_window = 745\n",
    "pre_pulse_avoidance = 5\n",
    "post_pulse_avoidance = post_pulse_window+10\n",
    "\n",
    "n_template=post_pulse_window+pre_pulse_avoidance\n",
    "\n",
    "readout = MKIDReadout()\n",
    "readout.trigger(phase, fs=quasiparticle_timestream.fs/2, threshold=trigger_threshold, deadtime=2*30)\n",
    "\n",
    "pulse_window_starts = readout.photon_energy_idx-pre_pulse_avoidance\n",
    "pulse_window_stops = readout.photon_energy_idx+post_pulse_window\n",
    "usable_pulse_windows = np.zeros_like(pulse_window_starts,dtype=bool)\n",
    "usable_pulse_windows = np.concatenate(((pulse_window_starts[1:]-pulse_window_stops[:-1])>0, \n",
    "                                       [pulse_window_stops[-1]<=phase.size]))\n",
    "usable_pulse_windows[0]=pulse_window_starts[0]>=0\n",
    "# usable_pulse_windows[:-1] = (pulse_window_stops-pulse_window_starts)[:-1] < np.diff(readout.photon_energy_idx)\n",
    "# usable_pulse_windows[0]=pulse_window_starts[0]>=0\n",
    "# usable_pulse_windows[-1]=pulse_window_stops[-1]<=phase.size\n",
    "pulse_slices = [slice(*x) for x in zip(pulse_window_starts[usable_pulse_windows],\n",
    "                                       pulse_window_stops[usable_pulse_windows])]\n",
    "usable_idx = readout.photon_energy_idx[usable_pulse_windows]\n",
    "\n",
    "window = np.arange(-pre_pulse_avoidance, n_template - pre_pulse_avoidance)\n",
    "readout.usable_photon_energy_idx = usable_idx\n",
    "readout.plot_triggers(phase, energies=True, xlim=(0, 500000)); plt.show()\n",
    "pulse_window_indices = (readout.usable_photon_energy_idx + window[:, np.newaxis]).T\n",
    "raw_pulses = phase[pulse_window_indices] # n_pulsesfound x n_template array where each row is one pulse\n",
    "print(usable_pulse_windows.sum())"
   ],
   "metadata": {
    "collapsed": false,
    "is_executing": true
   },
   "id": "97a8fa1ea1027335"
  },
  {
   "cell_type": "markdown",
   "source": [
    "## Now have IQs, lowpassed & decimated IQS, and phases\n",
    "\n",
    "1. plot noise psd\n",
    "2. plot psd of averaged pulses\n",
    "3. plot average psd of pulses\n",
    "4. plot lowpass psd of averaged pulses\n"
   ],
   "metadata": {
    "collapsed": false
   },
   "id": "f99738d091206f7"
  },
  {
   "cell_type": "code",
   "execution_count": null,
   "outputs": [],
   "source": [
    "try:\n",
    "    del psd\n",
    "except:\n",
    "    pass\n",
    "noise_window_starts = np.concatenate(([0], readout.photon_energy_idx+post_pulse_avoidance))\n",
    "noise_window_stops = np.concatenate((readout.photon_energy_idx-pre_pulse_avoidance,[phase.size]))\n",
    "usable_noise_windows = (noise_window_stops-noise_window_starts) > noise_npoints*n_ovl  # wide enough\n",
    "usable_noise_windows[:-1] &= np.diff(noise_window_starts)>post_pulse_avoidance  # doesn't overlap with a pulse\n",
    "#usable_noise_windows &= noise_window_stops<readout.photon_energy_idx[1:]\n",
    "noise_slices = [slice(*x) for x in zip(noise_window_starts[usable_noise_windows],\n",
    "                                       noise_window_stops[usable_noise_windows])]\n",
    "\n",
    "if len(noise_slices) < max_noise_windows:\n",
    "    print(f'Only found {len(noise_slices)} good noise windows, less that the max of {max_noise_windows}. '\n",
    "          f'Consider reducing noise window size with noise_points or n_ovlp.')\n",
    "windows_used = 0\n",
    "for sl in noise_slices[:max_noise_windows]:\n",
    "    noise_data = phase[sl]\n",
    "    x= sp.signal.welch(noise_data - noise_data.mean(), fs=quasiparticle_timestream.fs/2, \n",
    "                       nperseg=noise_npoints, detrend=\"constant\", return_onesided=True, scaling=\"density\")[1]\n",
    "    try:\n",
    "        psd+=x\n",
    "    except NameError:\n",
    "        psd=x\n",
    "        \n",
    "windows_used = np.sum((noise_window_stops-noise_window_starts)[usable_noise_windows]/noise_npoints)\n",
    "\n",
    "if not len(noise_slices):\n",
    "    print(f'There was no noise data. Assuming white noise.')\n",
    "    psd[:] = np.ones(int(noise_npoints / 2. + 1))\n",
    "else:\n",
    "    psd /= min(len(noise_slices), max_noise_windows)"
   ],
   "metadata": {
    "collapsed": false,
    "is_executing": true
   },
   "id": "ab713bd363442a11"
  },
  {
   "cell_type": "code",
   "execution_count": null,
   "outputs": [],
   "source": [
    "for sl in np.random.choice(noise_slices, size=50, replace=False):\n",
    "    noise_data = phase[sl]\n",
    "    plt.plot(noise_data, label=f'{sl.start}-{sl.stop}')\n",
    "#plt.legend()"
   ],
   "metadata": {
    "collapsed": false,
    "is_executing": true
   },
   "id": "86679c8465d9e49"
  },
  {
   "cell_type": "code",
   "execution_count": null,
   "outputs": [],
   "source": [
    "import scipy as sp\n",
    "# cut out noise triggers\n",
    "min_idxs = raw_pulses.argmin(axis=1)\n",
    "mode, count = sp.stats.mode(min_idxs)\n",
    "mode, count = mode[0], count[0]\n",
    "if count / raw_pulses.shape[0] < 0.8:\n",
    "    print(f'Warning: {(count / raw_pulses.shape[0])*100:.1f} % of pulse minima differ from the mode. These may be noise triggers. Check deadtime and holdoff settings. Proceeding without noise cuts.')\n",
    "    pulses_final = raw_pulses\n",
    "else:\n",
    "    print(f'Eliminating {(1-(int(count) / raw_pulses.shape[0])) * 100:.1f}% of pulses which appear to be noise.')\n",
    "    # pulses_noisecut = raw_pulses[min_idxs == mode]\n",
    "    multis = ((raw_pulses[:,:pre_pulse_avoidance-2]<.5).sum(1).astype(bool) |\n",
    "              (raw_pulses[:,pre_pulse_avoidance+2:]<.5).sum(1).astype(bool))\n",
    "    # nonsingle = (raw_pulses[:,pre_pulse_avoidance+2:]<.5).sum(1)>1\n",
    "    print(f'Eliminating {multis.sum()} pulses which appear to be doubles or greater.')\n",
    "    pulses_final = raw_pulses[~multis]"
   ],
   "metadata": {
    "collapsed": false,
    "is_executing": true
   },
   "id": "df0756e25d5fecbb"
  },
  {
   "cell_type": "code",
   "execution_count": null,
   "outputs": [],
   "source": [
    "plt.plot(pulses_final[:,:100].T);"
   ],
   "metadata": {
    "collapsed": false,
    "is_executing": true
   },
   "id": "7055b84cea3380f5"
  },
  {
   "cell_type": "code",
   "execution_count": null,
   "outputs": [],
   "source": [
    "def shift_and_normalize(template, ntemplate, offset):\n",
    "    template = template.copy()\n",
    "    if template.min() != 0:  # all weights could be zero\n",
    "        template /= np.abs(template.min())  # correct over all template height\n",
    "\n",
    "    # shift template (max may not be exactly at offset due to filtering and imperfect default template)\n",
    "    start = 10 + np.argmin(template) - offset\n",
    "    stop = start + ntemplate\n",
    "    template = np.pad(template, 10, mode='wrap')[start:stop]  # use wrap to not change the frequency content\n",
    "    return template\n",
    "\n",
    "raw_template = pulses_final.sum(axis=0)\n",
    "shifted_template = raw_template-raw_template[0:pre_pulse_avoidance//2].mean() # make pulse start at 0\n",
    "normalized_template = shift_and_normalize(shifted_template, n_template, pre_pulse_avoidance)"
   ],
   "metadata": {
    "collapsed": false,
    "is_executing": true
   },
   "id": "b5e4a40c5478a54e"
  },
  {
   "cell_type": "code",
   "execution_count": null,
   "outputs": [],
   "source": [
    "cutoff = 0.1 # lowpass cutoff used during filter generation to compensate for effects of lowpass filters in digital readout?\n",
    "dt = 1/(quasiparticle_timestream.fs/2)\n",
    "window_filter = True\n",
    "n_filter= 42"
   ],
   "metadata": {
    "collapsed": false,
    "is_executing": true
   },
   "id": "8ba36c13a8fe0339"
  },
  {
   "cell_type": "code",
   "execution_count": null,
   "outputs": [],
   "source": [
    "optimal_filter = wiener(normalized_template, psd, noise_npoints, nfilter=n_filter, \n",
    "                        cutoff=0*cutoff, normalize=True)\n",
    "if window_filter:\n",
    "    window = sp.signal.windows.hamming(optimal_filter.size, sym=False)\n",
    "    optimal_filter_w = window * optimal_filter"
   ],
   "metadata": {
    "collapsed": false,
    "is_executing": true
   },
   "id": "e4ef5ebae2ad7964"
  },
  {
   "cell_type": "code",
   "execution_count": null,
   "outputs": [],
   "source": [
    "#TODO generate way more pulses and see if knee disappears"
   ],
   "metadata": {
    "collapsed": false,
    "is_executing": true
   },
   "id": "f65af6a7f4213423"
  },
  {
   "cell_type": "code",
   "execution_count": null,
   "outputs": [],
   "source": [
    "from mkidreadoutanalysis.jenny_ofilt_helpers import  ofilt_summary_plot\n",
    "def ofilt_summary_plot(psd, dt, noise_nwindow, filter, template, cutoff):\n",
    "    fig, ax = plt.subplots(nrows=2, ncols=2, figsize=(9, 9))\n",
    "    # PSD\n",
    "    ax[0, 0].set_xlabel(\"frequency [Hz]\")\n",
    "    ax[0, 0].set_ylabel(\"PSD [dBc / Hz]\")\n",
    "    ax[0, 0].axvline(cutoff*1/dt/2, color='black', linestyle='--')\n",
    "    f_noise = np.fft.rfftfreq(noise_nwindow, d=dt)\n",
    "    ax[0, 0].semilogx(f_noise, 10 * np.log10(psd), label='noise')\n",
    "    f_template = np.fft.rfftfreq(template.size, d=dt)\n",
    "    template_fft =np.abs(np.fft.rfft(template))\n",
    "    ax[0, 0].semilogx(f_template, 10 * np.log10(template_fft*dt*1e-5), label='template')\n",
    "    ax[0, 0].legend(loc='upper right')\n",
    "    ax[0, 0].set_title('PSD')\n",
    "    # FOURIER QUOTIENT\n",
    "    ax[0, 1].semilogx(f_noise, 10 * np.log10(np.abs(np.conj(np.fft.rfft(template)) / psd)))\n",
    "    ax[0, 1].set_xlabel(\"frequncy [Hz]\")\n",
    "    ax[0, 1].set_ylabel(\"dB\")\n",
    "    ax[0, 1].axvline(cutoff*1/dt/2, color='black', linestyle='--')\n",
    "    ax[0, 1].set_title('Fourier Quotient')\n",
    "    # TEMPLATE\n",
    "    ax[1, 0].set_xlabel(r\"time [$\\mu$s]\")\n",
    "    ax[1, 0].set_ylabel(\"template [arb.]\")\n",
    "    ax[1, 0].plot(np.arange(template.size) * dt * 1e6, template)\n",
    "    ax[1, 0].plot(np.arange(filter.size) * dt * 1e6, template[:filter.size])\n",
    "    ax[1, 0].set_title('Template')\n",
    "    ax[1,0].set_xlim(0,100)\n",
    "    # FILTER\n",
    "    ax[1, 1].set_xlabel(r\"time [$\\mu$s]\")\n",
    "    ax[1, 1].set_ylabel(\"filter coefficient [radians]\")\n",
    "    ax[1, 1].plot(np.arange(filter.size) * dt * 1e6, filter)\n",
    "    ax[1, 1].set_title('Filter')\n",
    "    plt.tight_layout()\n",
    "    plt.show()\n",
    "ofilt_summary_plot(psd, dt, noise_npoints, optimal_filter, normalized_template, cutoff)"
   ],
   "metadata": {
    "collapsed": false,
    "is_executing": true
   },
   "id": "3116676ab3fc211d"
  },
  {
   "cell_type": "code",
   "execution_count": null,
   "outputs": [],
   "source": [],
   "metadata": {
    "collapsed": false
   },
   "id": "3729283406c90807"
  }
 ],
 "metadata": {
  "kernelspec": {
   "display_name": "Python 3",
   "language": "python",
   "name": "python3"
  },
  "language_info": {
   "codemirror_mode": {
    "name": "ipython",
    "version": 2
   },
   "file_extension": ".py",
   "mimetype": "text/x-python",
   "name": "python",
   "nbconvert_exporter": "python",
   "pygments_lexer": "ipython2",
   "version": "2.7.6"
  }
 },
 "nbformat": 4,
 "nbformat_minor": 5
}
